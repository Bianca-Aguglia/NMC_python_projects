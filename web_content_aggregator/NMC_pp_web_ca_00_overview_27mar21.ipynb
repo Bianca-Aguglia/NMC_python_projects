{
 "cells": [
  {
   "cell_type": "markdown",
   "metadata": {},
   "source": [
    "# Web Content Aggregator <small>(bioinformatics focus)</small>\n",
    "---\n",
    "**Goal:** create a simple web content aggregator as a way to become better at Python, with a focus on bioinformatics content since this is the field I want to spend most of my research time on."
   ]
  },
  {
   "cell_type": "markdown",
   "metadata": {},
   "source": [
    "**TO-DO**\n",
    "- [ ] draw process flow diagram\n",
    "- [ ] make database and database utils\n",
    "- [ ] write code to:\n",
    "    - [ ] get content\n",
    "    - [ ] write content to database\n",
    "    - [ ] log failed requests\n",
    "    - [ ] post content"
   ]
  },
  {
   "cell_type": "code",
   "execution_count": null,
   "metadata": {},
   "outputs": [],
   "source": []
  }
 ],
 "metadata": {
  "kernelspec": {
   "display_name": "Python 3",
   "language": "python",
   "name": "python3"
  },
  "language_info": {
   "codemirror_mode": {
    "name": "ipython",
    "version": 3
   },
   "file_extension": ".py",
   "mimetype": "text/x-python",
   "name": "python",
   "nbconvert_exporter": "python",
   "pygments_lexer": "ipython3",
   "version": "3.7.7"
  }
 },
 "nbformat": 4,
 "nbformat_minor": 4
}
