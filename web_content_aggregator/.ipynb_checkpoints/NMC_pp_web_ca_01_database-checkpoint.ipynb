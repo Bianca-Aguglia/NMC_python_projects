{
 "cells": [
  {
   "cell_type": "code",
   "execution_count": 1,
   "metadata": {},
   "outputs": [],
   "source": [
    "import sqlite3"
   ]
  },
  {
   "cell_type": "code",
   "execution_count": 2,
   "metadata": {},
   "outputs": [],
   "source": [
    "db_file = 'bioinformatics_news.db'"
   ]
  },
  {
   "cell_type": "code",
   "execution_count": null,
   "metadata": {},
   "outputs": [],
   "source": [
    "with sqlite3.connect(db_file) as connection:\n",
    "    cursor = connection.cursor()\n",
    "    \n",
    "    # table for content_sources (e.g. NCIB, etc)\n",
    "    cursor.execute('''CREATE TABLE IF NOT EXISTS content_source\n",
    "                      (source_id INTEGER PRIMARY KEY,\n",
    "                       doe TEXT,\n",
    "                       name TEXT,\n",
    "                       name_long TEXT,\n",
    "                       link TEXT,\n",
    "                       type_id INT,\n",
    "                       is_permission_required INT,\n",
    "                       description TEXT,\n",
    "                       owner_id INT,\n",
    "                       FOREIGN KEY (type_id) REFERENCES source_type(type_id),\n",
    "                       FOREIGN KEY (owner_id) REFERENCES source_owner(owner_id)''')\n",
    "    \n",
    "    # table for source_types (e.g. news, blog, paper)\n",
    "    cursor.execute('''CREATE TABLE IF NOT EXISTS source_type\n",
    "                      (type_id INTEGER PRIMARY KEY,\n",
    "                       doe TEXT,\n",
    "                       name TEXT)''')\n",
    "    \n",
    "    # table for source_owners   \n",
    "    cursor.execute('''CREATE TABLE IF NOT EXISTS source_owner\n",
    "                      (owner_ID INTEGER PRIMARY KEY,\n",
    "                       doe TEXT,\n",
    "                       first_name TEXT,\n",
    "                       last_name TEXT,\n",
    "                       bio_short TEXT,\n",
    "                       bio_long TEXT)''')\n",
    "    \n",
    "    # table for get_content_log \n",
    "    cursor.execute('''CREATE TABLE IF NOT EXISTS get_content_log\n",
    "                      (log_id INTEGER PRIMARY KEY,\n",
    "                       doe TEXT,\n",
    "                       status_code INT,\n",
    "                       raw_content TEXT,\n",
    "                       is_processed INT)''')\n",
    "    \n",
    "    # table for content \n",
    "    cursor.execute('''CREATE TABLE IF NOT EXISTS content\n",
    "                      (content_id INTEGER PRIMARY KEY,\n",
    "                       doe TEXT,\n",
    "                       source_id INT,\n",
    "                       headline TEXT,\n",
    "                       body TEXT,\n",
    "                       link TEXT,\n",
    "                       FOREIGN KEY (source_id) REFERENCES content_source(source_id))''')\n",
    "    \n",
    "    # table for failed_get_content (e.g. reguests with status_code != OK)\n",
    "    cursor.execute('''CREATE TABLE IF NOT EXISTS failed_get_content\n",
    "                      (failed_id INTEGER PRIMARY KEY,\n",
    "                       doe TEXT,\n",
    "                       source_id INT,\n",
    "                       is_repaired INT,\n",
    "                       FOREIGN KEY (source_id) REFERENCES content_source(source_id)''')"
   ]
  },
  {
   "cell_type": "code",
   "execution_count": null,
   "metadata": {},
   "outputs": [],
   "source": []
  },
  {
   "cell_type": "code",
   "execution_count": null,
   "metadata": {},
   "outputs": [],
   "source": []
  },
  {
   "cell_type": "code",
   "execution_count": null,
   "metadata": {},
   "outputs": [],
   "source": []
  },
  {
   "cell_type": "code",
   "execution_count": null,
   "metadata": {},
   "outputs": [],
   "source": [
    "source_id\n",
    "doe\n",
    "name\n",
    "name_long\n",
    "link\n",
    "type_id\n",
    "is_permission_required\n",
    "description\n",
    "owner_id"
   ]
  }
 ],
 "metadata": {
  "kernelspec": {
   "display_name": "Python 3",
   "language": "python",
   "name": "python3"
  },
  "language_info": {
   "codemirror_mode": {
    "name": "ipython",
    "version": 3
   },
   "file_extension": ".py",
   "mimetype": "text/x-python",
   "name": "python",
   "nbconvert_exporter": "python",
   "pygments_lexer": "ipython3",
   "version": "3.7.7"
  }
 },
 "nbformat": 4,
 "nbformat_minor": 4
}
