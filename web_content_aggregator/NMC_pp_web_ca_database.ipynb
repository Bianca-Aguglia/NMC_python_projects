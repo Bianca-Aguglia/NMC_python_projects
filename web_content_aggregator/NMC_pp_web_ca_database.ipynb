{
 "cells": [
  {
   "cell_type": "code",
   "execution_count": 1,
   "metadata": {},
   "outputs": [],
   "source": [
    "import sqlite3"
   ]
  },
  {
   "cell_type": "code",
   "execution_count": 2,
   "metadata": {},
   "outputs": [],
   "source": [
    "db_file = 'bioinformatics_news.db'"
   ]
  },
  {
   "cell_type": "code",
   "execution_count": null,
   "metadata": {},
   "outputs": [],
   "source": [
    "with sqlite3.connect(db_file) as connection:\n",
    "    cursor = connection.cursor()\n",
    "    \n",
    "    cursor.execute('''CREATE TABLE IF NOT EXISTS news_source\n",
    "                      (source_id INTEGER PRIMARY KEY,\n",
    "                       doe TEXT,\n",
    "                       name TEXT,\n",
    "                       link TEXT,\n",
    "                       type_id INT,\n",
    "                       FOREIGN KEY (type_id) REFERENCES source_type(type_id))''')"
   ]
  }
 ],
 "metadata": {
  "kernelspec": {
   "display_name": "Python 3",
   "language": "python",
   "name": "python3"
  },
  "language_info": {
   "codemirror_mode": {
    "name": "ipython",
    "version": 3
   },
   "file_extension": ".py",
   "mimetype": "text/x-python",
   "name": "python",
   "nbconvert_exporter": "python",
   "pygments_lexer": "ipython3",
   "version": "3.7.7"
  }
 },
 "nbformat": 4,
 "nbformat_minor": 4
}
