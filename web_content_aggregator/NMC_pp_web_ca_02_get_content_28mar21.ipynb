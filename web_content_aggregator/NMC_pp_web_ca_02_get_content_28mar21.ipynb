{
 "cells": [
  {
   "cell_type": "markdown",
   "metadata": {},
   "source": [
    "# Content Aggregator <small>(component 2: get content and write it to db)</small>\n",
    "---\n",
    "**Notes:**\n",
    "- this notebook if for the scripts needed to:\n",
    "    - get latest content from content sources\n",
    "    - clean-up content\n",
    "    - write content to db"
   ]
  },
  {
   "cell_type": "markdown",
   "metadata": {},
   "source": [
    "TO-DO\n",
    "- [ ] get list of content sources from db\n",
    "- [ ] iterate through content sources and fetch latest content (if exists) for each source\n",
    "- [ ] log response status_code and response content\n",
    "- [ ] log failed requests (if any)\n",
    "- [ ] write new content to db"
   ]
  },
  {
   "cell_type": "code",
   "execution_count": 1,
   "metadata": {},
   "outputs": [],
   "source": [
    "import requests\n",
    "import sqlite3\n",
    "import my_config as cfg"
   ]
  },
  {
   "cell_type": "code",
   "execution_count": 3,
   "metadata": {},
   "outputs": [],
   "source": [
    "DB_FILE = cfg.DB_FILE\n",
    "DOE = cfg.DOE"
   ]
  },
  {
   "cell_type": "code",
   "execution_count": 4,
   "metadata": {},
   "outputs": [],
   "source": [
    "def get_content_sources(db_file = DB_FILE, doe = DOE, is_obsolete = 0):\n",
    "    '''\n",
    "    Get a list of content sources from 'bioinformatics_news.db'\n",
    "    \n",
    "    Params:\n",
    "        db_file: the database for this project\n",
    "        doe: date of entry (defaults to current day)\n",
    "        is_obsolete: indicates if content source is still active\n",
    "        \n",
    "    Returns:\n",
    "        sources: list of content sources\n",
    "    '''\n",
    "    with sqlite3.connect(db_file) as connection:\n",
    "        cursor = connection.cursor()\n",
    "        \n",
    "        # which fields do I need to select?\n",
    "        cursor.execute('''SELECT ''')"
   ]
  },
  {
   "cell_type": "code",
   "execution_count": 5,
   "metadata": {},
   "outputs": [],
   "source": [
    "def get_content(content_source):\n",
    "    '''\n",
    "    Get the latest content (if any) for a specific content_source.\n",
    "    '''"
   ]
  },
  {
   "cell_type": "code",
   "execution_count": null,
   "metadata": {},
   "outputs": [],
   "source": [
    "def get_content_rss(content_source):\n",
    "    '''\n",
    "    Get the latest content (if any) from an rss feed.\n",
    "    '''"
   ]
  }
 ],
 "metadata": {
  "kernelspec": {
   "display_name": "Python 3",
   "language": "python",
   "name": "python3"
  },
  "language_info": {
   "codemirror_mode": {
    "name": "ipython",
    "version": 3
   },
   "file_extension": ".py",
   "mimetype": "text/x-python",
   "name": "python",
   "nbconvert_exporter": "python",
   "pygments_lexer": "ipython3",
   "version": "3.7.7"
  }
 },
 "nbformat": 4,
 "nbformat_minor": 4
}
